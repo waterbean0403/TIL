{
  "nbformat": 4,
  "nbformat_minor": 0,
  "metadata": {
    "colab": {
      "provenance": [],
      "authorship_tag": "ABX9TyPqLFUHHJGM6W59ks8T+eDs",
      "include_colab_link": true
    },
    "kernelspec": {
      "name": "python3",
      "display_name": "Python 3"
    },
    "language_info": {
      "name": "python"
    }
  },
  "cells": [
    {
      "cell_type": "markdown",
      "metadata": {
        "id": "view-in-github",
        "colab_type": "text"
      },
      "source": [
        "<a href=\"https://colab.research.google.com/github/waterbean0403/TIL/blob/main/04_2.ipynb\" target=\"_parent\"><img src=\"https://colab.research.google.com/assets/colab-badge.svg\" alt=\"Open In Colab\"/></a>"
      ]
    },
    {
      "cell_type": "code",
      "execution_count": 1,
      "metadata": {
        "id": "dtOJCb2ahxEh"
      },
      "outputs": [],
      "source": [
        "\"\"\"# 확률적 경사 하강법\"\"\"\n",
        "\n",
        "\"\"\"## SGDClassifier\"\"\"\n",
        "\n",
        "import pandas as pd\n",
        "\n",
        "fish = pd.read_csv('http://bit.ly/fish_csv_data')"
      ]
    },
    {
      "cell_type": "code",
      "source": [
        "fish_input = fish[['Weight', 'Length', 'Diagonal', 'Height', 'Width']].to_numpy()     # Species 열을 제외한 나머지 5개는 입력 데이터로 사용\n",
        "fish_target = fish['Species'].to_numpy()     # Species 열은 타깃 데이터"
      ],
      "metadata": {
        "id": "H9cU2r3TvgYO"
      },
      "execution_count": 2,
      "outputs": []
    },
    {
      "cell_type": "code",
      "source": [
        "from sklearn.model_selection import train_test_split\n",
        "\n",
        "train_input, test_input, train_target, test_target = train_test_split(fish_input, fish_target, random_state=42)"
      ],
      "metadata": {
        "id": "BDlHKc1bwLzD"
      },
      "execution_count": 3,
      "outputs": []
    },
    {
      "cell_type": "code",
      "source": [
        "# 훈련 세트와 테스트 세트의 특성을 표준화 전처리\n",
        "\n",
        "from sklearn.preprocessing import StandardScaler\n",
        "\n",
        "ss = StandardScaler()\n",
        "ss.fit(train_input)\n",
        "train_scaled = ss.transform(train_input)\n",
        "test_scaled = ss.transform(test_input)     # 강조: 꼭 훈련 세트에서 학습한 통계 값으로 테스트 세트도 변환해야 함"
      ],
      "metadata": {
        "id": "YKTrJvHvwtQR"
      },
      "execution_count": 4,
      "outputs": []
    },
    {
      "cell_type": "code",
      "source": [
        "from sklearn.linear_model import SGDClassifier     # 사이킷런에서 확률적 경사 하강법을 제공하는 대표적인 분류용 클래스\n",
        "\n",
        "sc = SGDClassifier(loss='log_loss', max_iter=10, random_state=42)     # loss는 손실 함수의 종류 지정. 여기에서는 loss='log_loss'로 지정하여 로지스틱 손실 함수 지정. max_iter는 수행할 에포크 횟수 지정\n",
        "sc.fit(train_scaled, train_target)\n",
        "print(sc.score(train_scaled, train_target))\n",
        "print(sc.score(test_scaled, test_target))\n",
        "\n",
        "# 훈련 세트와 테스트 세트 정확도 낮음. 지정한 반복 횟수 10번이 부족함\n",
        "# 아래 오류도 같은 이유로 기재됨"
      ],
      "metadata": {
        "colab": {
          "base_uri": "https://localhost:8080/"
        },
        "id": "LAXEydKoxtBO",
        "outputId": "6a65653c-81b3-4821-bf45-38508ef52d7b"
      },
      "execution_count": 11,
      "outputs": [
        {
          "output_type": "stream",
          "name": "stdout",
          "text": [
            "0.773109243697479\n",
            "0.775\n"
          ]
        },
        {
          "output_type": "stream",
          "name": "stderr",
          "text": [
            "/usr/local/lib/python3.11/dist-packages/sklearn/linear_model/_stochastic_gradient.py:738: ConvergenceWarning: Maximum number of iteration reached before convergence. Consider increasing max_iter to improve the fit.\n",
            "  warnings.warn(\n"
          ]
        }
      ]
    },
    {
      "cell_type": "code",
      "source": [
        "sc.partial_fit(train_scaled, train_target)     # 모델을 이어서 훈련할 때는 partial_fit() 메서드 사용. fit() 메서드와 사용법이 같지만 호출할 때마다 1 에포크씩 이어서 훈련 가능\n",
        "\n",
        "print(sc.score(train_scaled, train_target))\n",
        "print(sc.score(test_scaled, test_target))\n",
        "\n",
        "# 아직 점수가 낮지만 에포크를 한 번 더 실행하니 정확도 향상"
      ],
      "metadata": {
        "colab": {
          "base_uri": "https://localhost:8080/"
        },
        "id": "FDY2OtiO0cmP",
        "outputId": "addd23ef-eca4-465e-d01d-bb798840e71d"
      },
      "execution_count": 13,
      "outputs": [
        {
          "output_type": "stream",
          "name": "stdout",
          "text": [
            "0.7815126050420168\n",
            "0.8\n"
          ]
        }
      ]
    },
    {
      "cell_type": "code",
      "source": [
        "\"\"\"## 에포크와 과대/과소적합\"\"\"\n",
        "\n",
        "import numpy as np\n",
        "\n",
        "# 이 예제에서는 fit() 메서드를 사용하지 않고 partial_fit() 메서드만 사용\n",
        "# partial_fit() 메서드만 사용하려면 훈련 세트에 있는 전체 클래스의 레이블을 partial_fit 메서드에 전달해야 함\n",
        "# np.unique() 함수로 train_target에 있는 7개의 생선 목록 만든 뒤, 에포크마다 점수 기록할 2개의 리스트 준비\n",
        "sc = SGDClassifier(loss='log_loss', random_state=42)\n",
        "train_score = []\n",
        "test_score = []\n",
        "classes = np.unique(train_target)"
      ],
      "metadata": {
        "id": "Ymv4SO8F4SCV"
      },
      "execution_count": 14,
      "outputs": []
    },
    {
      "cell_type": "code",
      "source": [
        "for _ in range(0, 300):     # 300번의 에포크동안 훈련 반복\n",
        "  sc.partial_fit(train_scaled, train_target, classes=classes)\n",
        "  train_score.append(sc.score(train_scaled, train_target))\n",
        "  test_score.append(sc.score(test_scaled, test_target))"
      ],
      "metadata": {
        "id": "7XV1VfVz5jhI"
      },
      "execution_count": 15,
      "outputs": []
    },
    {
      "cell_type": "code",
      "source": [
        "import matplotlib.pyplot as plt\n",
        "\n",
        "plt.plot(train_score)\n",
        "plt.plot(test_score)\n",
        "plt.xlabel('epoch')\n",
        "plt.ylabel('accuracy')\n",
        "plt.show()\n",
        "\n",
        "# 백 번째 에포크 이후에는 훈련 세트와 테스트 세트의 점수가 조금씩 벌어지고 있음\n",
        "# 에포크 초기에는 과소적합되어 훈련 세트와 테스트 세트의 점수가 낮음\n",
        "# 이 모델의 경우 백 번째 에포크가 적절한 반복 횟수로 보임"
      ],
      "metadata": {
        "colab": {
          "base_uri": "https://localhost:8080/",
          "height": 449
        },
        "id": "nhBadU636OkS",
        "outputId": "afc6e115-20e5-4b50-83df-79b935965553"
      },
      "execution_count": 17,
      "outputs": [
        {
          "output_type": "display_data",
          "data": {
            "text/plain": [
              "<Figure size 640x480 with 1 Axes>"
            ],
            "image/png": "[encoded data removed]"
          },
          "metadata": {}
        }
      ]
    },
    {
      "cell_type": "code",
      "source": [
        "sc = SGDClassifier(loss='log_loss', max_iter=100, tol=None, random_state=42)     # SGDClassifier는 일정 에포크 동안 성능이 향상되지 않으면 자동으로 멈춤. tol 매개변수에서 향상될 최솟값 지정\n",
        "sc.fit(train_scaled, train_target)\n",
        "\n",
        "print(sc.score(train_scaled, train_target))\n",
        "print(sc.score(test_scaled, test_target))"
      ],
      "metadata": {
        "colab": {
          "base_uri": "https://localhost:8080/"
        },
        "id": "7fnPRbx17Jbp",
        "outputId": "bcefbf56-57ef-41fc-8fcf-4705c67acaf2"
      },
      "execution_count": 18,
      "outputs": [
        {
          "output_type": "stream",
          "name": "stdout",
          "text": [
            "0.957983193277311\n",
            "0.925\n"
          ]
        }
      ]
    },
    {
      "cell_type": "code",
      "source": [
        "# 힌지 손실을 사용해 같은 반복 횟수 동안 모델 훈련하는 예\n",
        "\n",
        "sc = SGDClassifier(loss='hinge', max_iter=100, tol=None, random_state=42)\n",
        "sc.fit(train_scaled, train_target)\n",
        "print(sc.score(train_scaled, train_target))\n",
        "print(sc.score(test_scaled, test_target))"
      ],
      "metadata": {
        "colab": {
          "base_uri": "https://localhost:8080/"
        },
        "id": "FlVv_8t58WBn",
        "outputId": "528e57dd-fbde-4290-b15f-6e7c9d9275ce"
      },
      "execution_count": 20,
      "outputs": [
        {
          "output_type": "stream",
          "name": "stdout",
          "text": [
            "0.9495798319327731\n",
            "0.925\n"
          ]
        }
      ]
    }
  ]
}