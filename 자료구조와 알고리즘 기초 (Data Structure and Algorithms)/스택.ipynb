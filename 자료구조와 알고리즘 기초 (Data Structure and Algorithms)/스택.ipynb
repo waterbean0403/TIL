{
  "nbformat": 4,
  "nbformat_minor": 0,
  "metadata": {
    "colab": {
      "provenance": [],
      "authorship_tag": "ABX9TyNTqluvHYxTzroDiIsdBdR1",
      "include_colab_link": true
    },
    "kernelspec": {
      "name": "python3",
      "display_name": "Python 3"
    },
    "language_info": {
      "name": "python"
    }
  },
  "cells": [
    {
      "cell_type": "markdown",
      "metadata": {
        "id": "view-in-github",
        "colab_type": "text"
      },
      "source": [
        "<a href=\"https://colab.research.google.com/github/waterbean0403/TIL/blob/main/3_%EC%8A%A4%ED%83%9D.ipynb\" target=\"_parent\"><img src=\"https://colab.research.google.com/assets/colab-badge.svg\" alt=\"Open In Colab\"/></a>"
      ]
    },
    {
      "cell_type": "code",
      "execution_count": 2,
      "metadata": {
        "id": "O0QLYKkvw3vJ"
      },
      "outputs": [],
      "source": [
        "# 클래스 선언\n",
        "\n",
        "class Stack:\n",
        "  def __init__(self, capacity):\n",
        "  # 메서드 __init__는 모든 클래스에 공통 메서드. 객체가 생성될 때 수행. 생성자라고 부름\n",
        "  # 클래스 Stack에서 생성자 __init__가 하는 일은 빈 스택을 만드는 것\n",
        "  # 괄호 안에는 self와 매개변수로 넘겨받을 변수명을 콤마로 구분\n",
        "  # self는 스택 객체인 자기 자신을 뜻하는 매개변수로, 항상 첫 번째로 적음\n",
        "  # self 다음으로는 스택 객체의 용량을 의미하는 capacity 변수를 매개변수로 넘겨받음\n",
        "    self.capacity = capacity\n",
        "    # 변수명 앞에 self를 붙이는 것은 생성된 객체 자신을 의미\n",
        "    # 객체의 속성을 지정할 때는 self 뒤에 점을 찍고, 속성명을 적어줘야 함\n",
        "    self.array = [None] * self.capacity\n",
        "    # 스택 클래스 안에서 자료를 저장하는 공간으로, 파이썬의 리스트를 이용\n",
        "    # 리스트는 순차적이고 연속된 메모리 공간에 할당되므로, 선형적 자료구조를 표현할 때 용이\n",
        "    self.top = -1\n",
        "    # 삽입 항목이 하나도 없기 때문에, 초기 스택의 top 인덱스는 -1로 지정"
      ]
    },
    {
      "cell_type": "code",
      "source": [
        "# 객체 생성\n",
        "\n",
        "s1 = Stack(10)     # 인수 10은 10개의 항목을 담아둘 수 있는 용량의 스택을 만들라는 의미\n",
        "s2 = Stack(100)\n",
        "\n",
        "# 스택의 용량은 스택 객체를 생성하는 시점에서 초기값으로 지정"
      ],
      "metadata": {
        "id": "za95-6wb0j8X"
      },
      "execution_count": 3,
      "outputs": []
    },
    {
      "cell_type": "code",
      "source": [
        "# 스택이 비어있는지 확인\n",
        "\n",
        "def isEmpty(self):\n",
        "  return self.top == -1\n",
        "\n",
        "# 스택 객체의 인덱스를 의미하는 top 값이 -1이면 True, 그렇지 않으면 False를 반환\n",
        "\n",
        "def isEmpty(self):\n",
        "  if self.top == -1:\n",
        "    return True\n",
        "  else:\n",
        "    return False\n",
        "\n",
        "# 위와 같이 코드를 작성해도 결과는 동일"
      ],
      "metadata": {
        "id": "TAAKRKhAWAVx"
      },
      "execution_count": 4,
      "outputs": []
    },
    {
      "cell_type": "code",
      "source": [
        "# 스택이 가득 차 있는지 확인\n",
        "\n",
        "def isFull(self):\n",
        "  return self.top == self.capacity - 1\n",
        "\n",
        "# top 변수 값이 용량을 의미하는 capacity에서 1을 뺀 값과 같은지 비교 -> 리스트의 인덱스는 0부터 시작한다는 것을 기억\n",
        "# 즉, 초기에 지정한 capacity 개수만큼 항목이 꽉 차 있을 경우, top은 capacity - 1의 값과 같음\n",
        "\n",
        "def isFull(self):\n",
        "  if self.top == self.capacity - 1:\n",
        "    return True\n",
        "  else:\n",
        "    return False\n",
        "\n",
        "# 위와 같이 코드를 작성해도 결과는 동일"
      ],
      "metadata": {
        "id": "t8AhnRKLXAI3"
      },
      "execution_count": 5,
      "outputs": []
    },
    {
      "cell_type": "code",
      "source": [
        "# 스택에 항목 삽입\n",
        "\n",
        "def push(self, value):     # value 매개변수는 삽입할 항목 값\n",
        "  if not self.isFull():\n",
        "    self.top += 1\n",
        "    self.array[self.top] = value\n",
        "  else:\n",
        "    print(\"Stack Overflow\")\n",
        "\n",
        "# push() 연산에서 고려해야 할 사항 : 스택이 꽉 차 있는 상태인지 아닌지를 항상 확인\n",
        "# 스택이 꽉 차 있지 않다면, array에 항목을 삽입한 후 top을 1 증가\n",
        "# 스택이 꽉 차 있는 상태라면, Stack Overflow라는 에러 메시지만 출력. 항목 삽입은 하지 않음"
      ],
      "metadata": {
        "id": "y_hLnn4kYrHt"
      },
      "execution_count": 6,
      "outputs": []
    },
    {
      "cell_type": "code",
      "source": [
        "# 스택에 항목 제거\n",
        "\n",
        "def pop(self):\n",
        "  if not self.isEmpty():\n",
        "    self.top -= 1\n",
        "    return self.array[self.top + 1]\n",
        "  else:\n",
        "    print(\"Stack Underflow\")\n",
        "\n",
        "# pop() 연산에서 고려해야 할 사항 : 스택이 비어있는지를 체크\n",
        "# 스택이 비어있지 않다면, self.array[self.top] 값을 리턴해 준 후, top을 1 감소\n",
        "# 스택이 비어있는 상태라면, Stack Underflow라는 에러 메시지만 출력, top의 위치는 바뀌지 않음\n",
        "\n",
        "# pop 연산은 실제 array에 들어있던 값을 삭제하는 것이 아님\n",
        "# 삭제되었다고 가정하고, top 인덱스 위치만 조정\n",
        "# 삭제된 위치 값을 null 값으로 바꾸어주지 않아도 됨"
      ],
      "metadata": {
        "id": "CzOA3xDUZ-oF"
      },
      "execution_count": 7,
      "outputs": []
    },
    {
      "cell_type": "code",
      "source": [
        "# 스택의 개수 확인\n",
        "\n",
        "def size(self):\n",
        "  return self.top + 1     #리스트의 인덱스는 0부터 시작한다는 것을 기억"
      ],
      "metadata": {
        "id": "rTdvMDYobo6F"
      },
      "execution_count": 8,
      "outputs": []
    },
    {
      "cell_type": "code",
      "source": [
        "# 스택의 모든 항목을 화면에 출력\n",
        "\n",
        "def display(self):\n",
        "  for i in range(self.top+1):\n",
        "    print(self.array[i], \" \", end=\"\")\n",
        "\n",
        "# 반복문을 돌면서 처음부터 top까지 array에 들어있는 값을 화면에 출력"
      ],
      "metadata": {
        "id": "Ni2OS3Nzb8jK"
      },
      "execution_count": 9,
      "outputs": []
    },
    {
      "cell_type": "code",
      "source": [
        "# 스택의 응용 : 괄호 짝 맞추기\n",
        "# [문제] 입력된 수식에서 왼쪽 여는 괄호와 오른쪽 닫는 괄호의 짝이 맞는지를 체크\n",
        "# [입력] (10+2)*5-((7-1)/2+9)\n",
        "# [출력] 괄호 짝이 맞으면 True, 괄호 짝이 맞지 않으면 False\n",
        "\n",
        "# !POINT! 닫는 괄호가 임의 위치에 있는 여는 괄호와 상쇄되는 것이 아니라, 닫는 괄호는 가장 최근에 열린 괄호와 상쇄된다는 점\n",
        "# 즉, \"가장 최근\"이라는 키워드에 주목\n",
        "\n",
        "# [과정]\n",
        "# 1. 문자열을 앞에서 하나씩 훑으면서 여는 괄호가 나오면 push\n",
        "# 2. 닫는 괄호가 나오면 pop을 통해 문자열에서 여는 괄호와 닫는 괄호를 한 쌍씩 상쇄\n",
        "# 3. 1~2 과정을 마지막 문자열까지 반복\n",
        "# 4. 모든 문자열을 다 훑은 후, 스택에 괄호가 남아있지 않다며 짝이 맞는 것(True)이고, 괄호가 남아있다면 짝이 맞지 않는 것(False)으로 판단\n",
        "\n",
        "def check_brackets(str, length):     # 함수의 매개변수는 입력된 문자열과 문자열의 총 길이\n",
        "  s1 = Stack(length)     # 문자열의 총 길이 만큼의 용량을 갖는 s1 스택 생성\n",
        "  for ch in str:     # for 반복문을 돌면서, 문자열(str)을 하나씩 ch변수에 대입\n",
        "    if ch == \"(\":\n",
        "      s1.push(ch)     # 만약, ch 변수 값이 \"(\"이면 s1 스택에 push\n",
        "    elif ch == \")\":     # 만약, ch 변수 값이 \")\"이면\n",
        "      if s1.isEmpty():     # 먼저 스택에 여는 괄호가 남아있는지 확인\n",
        "        return False\n",
        "      else:\n",
        "        s1.pop()\n",
        "    else:\n",
        "      pass\n",
        "\n",
        "  return s1.isEmpty()\n",
        "\n",
        "# main\n",
        "str = input(\"수식 입력 :\")     # 예: (10+2)*5-((7-1)/2+9)\n",
        "print(\"괄호 짝맞추기 결과: \", check_brackets(str, len(str)))"
      ],
      "metadata": {
        "id": "0k7rvV_Bc2ZC"
      },
      "execution_count": null,
      "outputs": []
    }
  ]
}
